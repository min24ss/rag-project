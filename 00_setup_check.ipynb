{
 "cells": [
  {
   "cell_type": "code",
   "execution_count": 6,
   "id": "07b8ad2a-2bb2-427b-bef6-795a34683887",
   "metadata": {},
   "outputs": [
    {
     "name": "stdout",
     "output_type": "stream",
     "text": [
      "✅ Python 버전 확인\n",
      "Python Version: 3.11.11 (main, Dec 11 2024, 16:28:39) [GCC 11.2.0]\n"
     ]
    }
   ],
   "source": [
    "import sys\n",
    "\n",
    "# Python 버전 확인\n",
    "print(\"✅ Python 버전 확인\")\n",
    "print(f\"Python Version: {sys.version}\")\n"
   ]
  },
  {
   "cell_type": "code",
   "execution_count": 7,
   "id": "c32b3050-2d6c-4ffb-a02a-e211ba271dd9",
   "metadata": {},
   "outputs": [
    {
     "name": "stdout",
     "output_type": "stream",
     "text": [
      "✅ 필수 패키지 설치 여부 확인\n",
      "\n",
      "✔ langchain: 0.3.11\n",
      "✔ openai: 1.57.4\n",
      "✔ chromadb: 0.5.23\n",
      "✔ faiss-cpu: 1.9.0.post1\n",
      "✔ pypdf: 5.1.0\n",
      "✔ sentence-transformers: 3.3.1\n",
      "✔ llama-index: 0.12.5\n",
      "✔ streamlit: 1.41.1\n",
      "✔ gradio: 5.9.0\n"
     ]
    }
   ],
   "source": [
    "import importlib.metadata\n",
    "\n",
    "# 필수 라이브러리 목록\n",
    "required_packages = [\n",
    "    \"langchain\", \n",
    "    \"openai\", \n",
    "    \"chromadb\", \n",
    "    \"faiss-cpu\", \n",
    "    \"pypdf\", \n",
    "    \"sentence-transformers\",\n",
    "    \"llama-index\", \n",
    "    \"streamlit\", \n",
    "    \"gradio\"\n",
    "]\n",
    "\n",
    "# 패키지 설치 여부 및 버전 점검\n",
    "print(\"✅ 필수 패키지 설치 여부 확인\\n\")\n",
    "for package in required_packages:\n",
    "    try:\n",
    "        version = importlib.metadata.version(package)\n",
    "        print(f\"✔ {package}: {version}\")\n",
    "    except importlib.metadata.PackageNotFoundError:\n",
    "        print(f\"❌ {package} 미설치\")\n"
   ]
  },
  {
   "cell_type": "code",
   "execution_count": 8,
   "id": "dd425463-ecf3-43e4-afcd-6695ca05749b",
   "metadata": {},
   "outputs": [
    {
     "name": "stdout",
     "output_type": "stream",
     "text": [
      "✅ GPU 사용 여부 확인\n",
      "\n",
      "✔ GPU 사용 가능: NVIDIA GeForce RTX 3090\n"
     ]
    }
   ],
   "source": [
    "import torch\n",
    "\n",
    "# GPU 사용 여부 확인\n",
    "print(\"✅ GPU 사용 여부 확인\\n\")\n",
    "if torch.cuda.is_available():\n",
    "    print(f\"✔ GPU 사용 가능: {torch.cuda.get_device_name(0)}\")\n",
    "else:\n",
    "    print(\"❌ GPU를 사용할 수 없습니다.\")"
   ]
  },
  {
   "cell_type": "code",
   "execution_count": 9,
   "id": "5588863e-fa12-4c0f-892c-61ba51d2fba4",
   "metadata": {},
   "outputs": [
    {
     "name": "stdout",
     "output_type": "stream",
     "text": [
      "\n",
      "🎉 환경 점검이 완료되었습니다. 이상이 없으면 다음 단계로 진행하세요!\n"
     ]
    }
   ],
   "source": [
    "print(\"\\n🎉 환경 점검이 완료되었습니다. 이상이 없으면 다음 단계로 진행하세요!\")\n"
   ]
  },
  {
   "cell_type": "code",
   "execution_count": null,
   "id": "99b37755-566f-4d0b-bdeb-f5a93c19ef6d",
   "metadata": {},
   "outputs": [],
   "source": []
  }
 ],
 "metadata": {
  "kernelspec": {
   "display_name": "Python (rag_project)",
   "language": "python",
   "name": "rag_project"
  },
  "language_info": {
   "codemirror_mode": {
    "name": "ipython",
    "version": 3
   },
   "file_extension": ".py",
   "mimetype": "text/x-python",
   "name": "python",
   "nbconvert_exporter": "python",
   "pygments_lexer": "ipython3",
   "version": "3.11.11"
  }
 },
 "nbformat": 4,
 "nbformat_minor": 5
}
