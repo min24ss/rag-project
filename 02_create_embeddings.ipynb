{
 "cells": [
  {
   "cell_type": "markdown",
   "id": "14e92ca1-ed5b-4d18-8942-18769b40de88",
   "metadata": {},
   "source": [
    "## 02. 문서 분할, 임베딩 생성"
   ]
  },
  {
   "cell_type": "code",
   "execution_count": 1,
   "id": "fa7d2547-7c97-49a5-9aaa-6accce15858e",
   "metadata": {},
   "outputs": [],
   "source": [
    "from langchain_text_splitters import RecursiveCharacterTextSplitter\n",
    "from langchain_community.document_loaders import PyMuPDFLoader\n",
    "from langchain_community.vectorstores import FAISS\n",
    "from langchain_core.output_parsers import StrOutputParser\n",
    "from langchain_core.runnables import RunnablePassthrough\n",
    "from langchain_core.prompts import PromptTemplate\n",
    "from langchain_openai import ChatOpenAI, OpenAIEmbeddings"
   ]
  },
  {
   "cell_type": "code",
   "execution_count": 2,
   "id": "b83014b2-9b5b-4722-a79a-014f92d9ede5",
   "metadata": {},
   "outputs": [
    {
     "name": "stderr",
     "output_type": "stream",
     "text": [
      "/tmp/ipykernel_3077071/3787676677.py:17: LangChainDeprecationWarning: The class `OpenAIEmbeddings` was deprecated in LangChain 0.0.9 and will be removed in 1.0. An updated version of the class exists in the :class:`~langchain-openai package and should be used instead. To use it run `pip install -U :class:`~langchain-openai` and import as `from :class:`~langchain_openai import OpenAIEmbeddings``.\n",
      "  embeddings = OpenAIEmbeddings(openai_api_key=OPENAI_API_KEY)\n"
     ]
    },
    {
     "name": "stdout",
     "output_type": "stream",
     "text": [
      "✅ 임베딩 생성 및 저장 완료!\n"
     ]
    }
   ],
   "source": [
    "### For 02_create_embeddings.ipynb\n",
    "# 텍스트 청크 임베딩 생성\n",
    "from langchain.embeddings.openai import OpenAIEmbeddings\n",
    "import os\n",
    "import pickle\n",
    "from dotenv import load_dotenv\n",
    "\n",
    "# 단계 1: 환경 변수 로드\n",
    "load_dotenv()\n",
    "OPENAI_API_KEY = os.getenv(\"OPENAI_API_KEY\")\n",
    "\n",
    "# 단계 2: 텍스트 청크 로드\n",
    "with open(\"split_documents.pkl\", \"rb\") as f:\n",
    "    split_documents = pickle.load(f)\n",
    "\n",
    "# 단계 3: 임베딩 생성\n",
    "embeddings = OpenAIEmbeddings(openai_api_key=OPENAI_API_KEY)\n",
    "embedding_vectors = [(doc.page_content, embeddings.embed_query(doc.page_content)) for doc in split_documents]\n",
    "\n",
    "# 단계 4: 임베딩 저장\n",
    "with open(\"embedding_vectors.pkl\", \"wb\") as f:\n",
    "    pickle.dump(embedding_vectors, f)\n",
    "\n",
    "print(\"✅ 임베딩 생성 및 저장 완료!\")"
   ]
  },
  {
   "cell_type": "code",
   "execution_count": null,
   "id": "a101eb85-4ea6-4213-97f4-7a1318329b35",
   "metadata": {},
   "outputs": [],
   "source": []
  }
 ],
 "metadata": {
  "kernelspec": {
   "display_name": "Python (rag_project)",
   "language": "python",
   "name": "rag_project"
  },
  "language_info": {
   "codemirror_mode": {
    "name": "ipython",
    "version": 3
   },
   "file_extension": ".py",
   "mimetype": "text/x-python",
   "name": "python",
   "nbconvert_exporter": "python",
   "pygments_lexer": "ipython3",
   "version": "3.11.11"
  }
 },
 "nbformat": 4,
 "nbformat_minor": 5
}
