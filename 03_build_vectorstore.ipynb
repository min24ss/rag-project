{
 "cells": [
  {
   "cell_type": "markdown",
   "id": "b920078e-74a4-417a-80c1-cfc0d3ecdb48",
   "metadata": {},
   "source": [
    "## 3. 임베딩 생성"
   ]
  },
  {
   "cell_type": "code",
   "execution_count": 20,
   "id": "164d4220-780d-4357-8b5b-20db2cbc8ed9",
   "metadata": {},
   "outputs": [
    {
     "name": "stdout",
     "output_type": "stream",
     "text": [
      "✅ 벡터스토어가 성공적으로 저장되었습니다.\n"
     ]
    }
   ],
   "source": [
    "# 벡터스토어 생성 및 저장\n",
    "from langchain.vectorstores import FAISS\n",
    "from langchain.embeddings.openai import OpenAIEmbeddings\n",
    "from langchain.schema import Document\n",
    "import pickle\n",
    "import os\n",
    "from dotenv import load_dotenv\n",
    "\n",
    "# 단계 1: 환경 변수 로드\n",
    "load_dotenv()\n",
    "OPENAI_API_KEY = os.getenv(\"OPENAI_API_KEY\")\n",
    "\n",
    "# 단계 2: 데이터 로드\n",
    "with open(\"split_documents.pkl\", \"rb\") as f:\n",
    "    split_documents = pickle.load(f)\n",
    "with open(\"embedding_vectors.pkl\", \"rb\") as f:\n",
    "    embedding_vectors = pickle.load(f)\n",
    "\n",
    "# 단계 3: Document 객체 생성\n",
    "documents = [Document(page_content=text, metadata={\"text\": text}) for text, _ in embedding_vectors]\n",
    "\n",
    "# 단계 4: FAISS 벡터스토어 생성\n",
    "embeddings = OpenAIEmbeddings(openai_api_key=OPENAI_API_KEY)\n",
    "vectorstore = FAISS.from_documents(documents, embeddings)\n",
    "\n",
    "# 단계 5: 벡터스토어 저장\n",
    "vectorstore.save_local(\"faiss_index\")\n",
    "print(\"✅ 벡터스토어가 성공적으로 저장되었습니다.\")\n"
   ]
  },
  {
   "cell_type": "code",
   "execution_count": null,
   "id": "aa0bb02a-4ad6-42ac-b0a2-bd37510fdcdc",
   "metadata": {},
   "outputs": [],
   "source": []
  }
 ],
 "metadata": {
  "kernelspec": {
   "display_name": "Python (rag_project)",
   "language": "python",
   "name": "rag_project"
  },
  "language_info": {
   "codemirror_mode": {
    "name": "ipython",
    "version": 3
   },
   "file_extension": ".py",
   "mimetype": "text/x-python",
   "name": "python",
   "nbconvert_exporter": "python",
   "pygments_lexer": "ipython3",
   "version": "3.11.11"
  }
 },
 "nbformat": 4,
 "nbformat_minor": 5
}
