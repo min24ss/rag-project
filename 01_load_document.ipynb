{
 "cells": [
  {
   "cell_type": "markdown",
   "id": "587cb995-5838-4d08-b405-cfff927ffacf",
   "metadata": {},
   "source": [
    "## 01. pdf 업로드"
   ]
  },
  {
   "cell_type": "code",
   "execution_count": 1,
   "id": "5333571e-2a73-4173-8d81-7425b595f8e9",
   "metadata": {},
   "outputs": [],
   "source": [
    "from langchain_text_splitters import RecursiveCharacterTextSplitter\n",
    "from langchain_community.document_loaders import PyMuPDFLoader\n",
    "from langchain_community.vectorstores import FAISS\n",
    "from langchain_core.output_parsers import StrOutputParser\n",
    "from langchain_core.runnables import RunnablePassthrough\n",
    "from langchain_core.prompts import PromptTemplate\n",
    "from langchain_openai import ChatOpenAI, OpenAIEmbeddings"
   ]
  },
  {
   "cell_type": "code",
   "execution_count": 3,
   "id": "e8b528e1-2a3b-436d-9f0a-9df3f878ac79",
   "metadata": {},
   "outputs": [
    {
     "name": "stdout",
     "output_type": "stream",
     "text": [
      "✅ PDF 로드 및 텍스트 청크 분할 완료!\n"
     ]
    }
   ],
   "source": [
    "### For 01_load_document.ipynb\n",
    "# PDF 파일 로드 및 텍스트 청크 분할\n",
    "from langchain.document_loaders import PyPDFLoader\n",
    "from langchain.text_splitter import RecursiveCharacterTextSplitter\n",
    "import pickle\n",
    "\n",
    "# 단계 1: PDF 로드\n",
    "loader = PyPDFLoader(\"data/SPRI_AI_Brief_2023년12월호_F.pdf\")\n",
    "documents = loader.load()\n",
    "\n",
    "# 단계 2: 텍스트 청크 분할\n",
    "splitter = RecursiveCharacterTextSplitter(\n",
    "    chunk_size=500,\n",
    "    chunk_overlap=50\n",
    ")\n",
    "split_documents = splitter.split_documents(documents)\n",
    "\n",
    "# 단계 3: 텍스트 청크 저장\n",
    "with open(\"split_documents.pkl\", \"wb\") as f:\n",
    "    pickle.dump(split_documents, f)\n",
    "\n",
    "print(\"✅ PDF 로드 및 텍스트 청크 분할 완료!\")"
   ]
  },
  {
   "cell_type": "markdown",
   "id": "952c3853-711b-4698-82fe-64d2440b7839",
   "metadata": {},
   "source": [
    "## testdata"
   ]
  },
  {
   "cell_type": "code",
   "execution_count": 5,
   "id": "6ed966c1-0c5e-4f8a-a4d3-bb7e9d21f07b",
   "metadata": {},
   "outputs": [
    {
     "name": "stdout",
     "output_type": "stream",
     "text": [
      "✅ PDF 로드 및 텍스트 청크 분할 완료!\n"
     ]
    }
   ],
   "source": [
    "### For 01_load_document.ipynb\n",
    "# PDF 파일 로드 및 텍스트 청크 분할\n",
    "from langchain.document_loaders import PyPDFLoader\n",
    "from langchain.text_splitter import RecursiveCharacterTextSplitter\n",
    "import pickle\n",
    "\n",
    "# 단계 1: PDF 로드\n",
    "loader = PyPDFLoader(\"data/data_test.pdf\")\n",
    "documents = loader.load()\n",
    "\n",
    "# 단계 2: 텍스트 청크 분할\n",
    "splitter = RecursiveCharacterTextSplitter(\n",
    "    chunk_size=500,\n",
    "    chunk_overlap=50\n",
    ")\n",
    "split_documents = splitter.split_documents(documents)\n",
    "\n",
    "# 단계 3: 텍스트 청크 저장\n",
    "with open(\"split_documents.pkl\", \"wb\") as f:\n",
    "    pickle.dump(split_documents, f)\n",
    "\n",
    "print(\"✅ PDF 로드 및 텍스트 청크 분할 완료!\")"
   ]
  },
  {
   "cell_type": "code",
   "execution_count": null,
   "id": "8d42be85-bd12-459a-bfc2-646a232578be",
   "metadata": {},
   "outputs": [],
   "source": []
  },
  {
   "cell_type": "code",
   "execution_count": null,
   "id": "fc726201-fa55-4e4b-8002-289101394fc1",
   "metadata": {},
   "outputs": [],
   "source": []
  }
 ],
 "metadata": {
  "kernelspec": {
   "display_name": "Python (rag_project)",
   "language": "python",
   "name": "rag_project"
  },
  "language_info": {
   "codemirror_mode": {
    "name": "ipython",
    "version": 3
   },
   "file_extension": ".py",
   "mimetype": "text/x-python",
   "name": "python",
   "nbconvert_exporter": "python",
   "pygments_lexer": "ipython3",
   "version": "3.11.11"
  }
 },
 "nbformat": 4,
 "nbformat_minor": 5
}
