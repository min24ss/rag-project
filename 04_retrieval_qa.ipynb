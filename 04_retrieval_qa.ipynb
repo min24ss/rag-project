{
 "cells": [
  {
   "cell_type": "code",
   "execution_count": 3,
   "id": "436e0e56-5d14-4576-83bd-cc3f9f073b09",
   "metadata": {},
   "outputs": [
    {
     "name": "stdout",
     "output_type": "stream",
     "text": [
      "✅ 벡터스토어가 성공적으로 로드되었습니다!\n",
      "🎯 답변:\n",
      " 2,510억 달러\n",
      "\n",
      "🔍 검색된 문서:\n",
      "SPRi AI Brief |  2023-12월호\n",
      "12\n",
      "IDC, 2027년 AI 소프트웨어 매출 2,500억 달러 돌파 전망nIDC의 예측에 의하면 AI 소프트웨어 시장은 2027년 2,510억 달러로 달할 전망이며, 생성 AI 플랫폼과 애플리케이션은 2027년까지 283억 달러의 매출을 창출할 전망 n2023년 기준 AI 소프트웨어 매출의 3분의 1을 차지하는 최대 시장인 AI 애플리케이션은 2027년까지 21.1%의 연평균 성장률을 기록할 전망\n",
      "KEY Contents\n",
      "내부 자원의 결합을 고려n한편, AI 소프트웨어 시장에 포함되지 않는 생성 AI 플랫폼과 애플리케이션은 2027년까지 283억 달러의 매출을 창출할 전망 ☞ 출처 : IDC, IDC Forecasts Revenue for Artificial Intelligence Software Will Reach $279 Billion Worldwide in 2027, 2023.10.31.\n",
      "£기업들의 AI 투자 증가에 힘입어 AI 소프트웨어 시장 급성장 예상n시장조사기관 IDC는 AI 소프트웨어 시장이 2022년 640억 달러에서 2027년 2,510억 달러로 연평균 성장률 31.4%를 기록하며 급성장할 것으로 예상∙AI 소프트웨어 시장은 AI 플랫폼, AI 애플리케이션, AI 시스템 인프라 소프트웨어(SIS), AI 애플리케이션 개발·배포(AI AD&D) 소프트웨어를 포괄∙협업, 콘텐츠 관리, 전사적 자원관리(ERM), 공급망 관리, 생산 및 운영, 엔지니어링, 고객관계관리(CRM)를 포함하는 AI 애플리케이션은 AI 소프트웨어의 최대 시장으로 2023년 전체 매출의 약 3분의 1을 차지하며 2027년까지 21.1%의 연평균 성장률을 기록할 전망∙AI 비서를 포함한 AI 모델과 애플리케이션의 개발을 뒷받침하는 AI 플랫폼은 두 번째로 시장 규모가 큰 분야로, 2027년까지 35.8%의 연평균 성장률이 예상됨∙분석, 비즈니스 인텔리전스, 데이터 관리와 통합을 포함하는\n",
      "▹ IDC, 2027년 AI 소프트웨어 매출 2,500억 달러 돌파 전망···········································12   ▹ 빌 게이츠, AI 에이전트로 인한 컴퓨터 사용의 패러다임 변화 전망································13   ▹ 유튜브, 2024년부터 AI 생성 콘텐츠 표시 의무화····························································14 3. 기술/연구   ▹ 영국 과학혁신기술부, AI 안전 연구소 설립 발표······························································15   ▹ 구글 딥마인드, 범용 AI 모델의 기능과 동작에 대한 분류 체계 발표······························16   ▹ 갈릴레오의 LLM 환각 지수 평가에서 GPT-4가 가장 우수\n"
     ]
    }
   ],
   "source": [
    "# 04_retrieval_qa.ipynb: 질의응답 구현\n",
    "from langchain.embeddings.openai import OpenAIEmbeddings\n",
    "\n",
    "from langchain.chains import RetrievalQA\n",
    "from langchain.llms import OpenAI\n",
    "from langchain.vectorstores import FAISS\n",
    "from langchain.prompts import PromptTemplate\n",
    "import os\n",
    "from dotenv import load_dotenv\n",
    "\n",
    "# 단계 1: 환경 변수 로드\n",
    "load_dotenv()\n",
    "OPENAI_API_KEY = os.getenv(\"OPENAI_API_KEY\")\n",
    "\n",
    "# 단계 2: 벡터스토어 로드\n",
    "embeddings = OpenAIEmbeddings(openai_api_key=OPENAI_API_KEY)\n",
    "\n",
    "# 'allow_dangerous_deserialization=True' 옵션 추가\n",
    "vectorstore = FAISS.load_local(\"faiss_index\", embeddings, allow_dangerous_deserialization=True)\n",
    "\n",
    "print(\"✅ 벡터스토어가 성공적으로 로드되었습니다!\")\n",
    "\n",
    "\n",
    "# 단계 3: RetrievalQA 체인 설정\n",
    "llm = OpenAI(openai_api_key=OPENAI_API_KEY, temperature=0)\n",
    "\n",
    "# 사용자 지정 프롬프트 추가 (필요 시)\n",
    "custom_prompt = PromptTemplate(\n",
    "    input_variables=[\"context\", \"question\"],\n",
    "    template=\"다음 문맥을 바탕으로 질문에 답하세요.\\n\\n문맥:\\n{context}\\n\\n질문:\\n{question}\\n\\n답변:\"\n",
    ")\n",
    "\n",
    "qa_chain = RetrievalQA.from_chain_type(\n",
    "    llm=llm,\n",
    "    retriever=vectorstore.as_retriever(),\n",
    "    chain_type=\"stuff\",\n",
    "    return_source_documents=True  # 검색된 문서도 반환\n",
    ")\n",
    "\n",
    "# 단계 4: 질의응답 테스트 \n",
    "query = \"Q: ai 시장이 2027년 만들어내는 예상 매출액?\"\n",
    "\n",
    "\n",
    "result = qa_chain({\"query\": query})\n",
    "\n",
    "# 결과 출력\n",
    "print(\"🎯 답변:\")\n",
    "print(result[\"result\"])\n",
    "\n",
    "# 선택적으로 검색된 문서 확인\n",
    "print(\"\\n🔍 검색된 문서:\")\n",
    "for doc in result[\"source_documents\"]:\n",
    "    print(doc.page_content)\n"
   ]
  },
  {
   "cell_type": "code",
   "execution_count": null,
   "id": "fa16bee4-02a9-4bde-89c0-e191eedca85d",
   "metadata": {},
   "outputs": [],
   "source": []
  }
 ],
 "metadata": {
  "kernelspec": {
   "display_name": "Python (rag_project)",
   "language": "python",
   "name": "rag_project"
  },
  "language_info": {
   "codemirror_mode": {
    "name": "ipython",
    "version": 3
   },
   "file_extension": ".py",
   "mimetype": "text/x-python",
   "name": "python",
   "nbconvert_exporter": "python",
   "pygments_lexer": "ipython3",
   "version": "3.11.11"
  }
 },
 "nbformat": 4,
 "nbformat_minor": 5
}
