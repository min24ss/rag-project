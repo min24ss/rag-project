{
 "cells": [
  {
   "cell_type": "code",
   "execution_count": 13,
   "id": "436e0e56-5d14-4576-83bd-cc3f9f073b09",
   "metadata": {},
   "outputs": [
    {
     "name": "stdout",
     "output_type": "stream",
     "text": [
      "✅ 벡터스토어가 성공적으로 로드되었습니다!\n"
     ]
    },
    {
     "name": "stderr",
     "output_type": "stream",
     "text": [
      "/tmp/ipykernel_2950758/987221834.py:41: LangChainDeprecationWarning: The method `Chain.__call__` was deprecated in langchain 0.1.0 and will be removed in 1.0. Use :meth:`~invoke` instead.\n",
      "  result = qa_chain({\"query\": query})\n"
     ]
    },
    {
     "name": "stdout",
     "output_type": "stream",
     "text": [
      "🎯 답변:\n",
      " 미국 캘리포니아 북부지방법원에서 예술가들이 생성 AI 기업에 제기한 저작권 소송이 기각되었으며, 이유로는 고소장에 제시된 작품의 저작권 등록 여부와 AI로 생성된 이미지와 특정 작품 간 유사성을 입증하기 어렵다는 점이 제시되었습니다. 하지만 16개 작품을 무단으로 복제한 스태빌리티AI에 대한 저작권 침해 소송은 계속 진행될 예정입니다.\n",
      "\n",
      "🔍 검색된 문서:\n",
      "£예술가들의 AI 저작권 침해 소송, 저작권 미등록과 증거불충분으로 기각n미국 캘리포니아 북부지방법원의 윌리엄 오릭(W illiam  Orrick) 판사는 2023년 10월 30일 미드저니(M id jou rn ey), 스태빌리티AI(Stability AI), 디비언트아트(DeviantArt)에 제기된 저작권 침해 소송을 기각 ∙2023년 1월 예술가 사라 앤더슨(Sarah Anderson), 캘리 맥커넌(Kelly McKernan), 칼라 오르티즈(Karla Ortiz)는 이미지 생성 AI 서비스를 개발한 3개 기업을 상대로 저작권 침해 소송을 제기∙예술가들은 3개 기업이 AI 모델을 학습시키기 위해 원작자 동의 없이 작품을 학습 데이터셋에 포함하여 저작권을 침해했다고 주장했으며, 법원은 지난 4월 피소 기업들이 제출한 기각 신청을 수용해 소송을 기각 n오릭 판사는 판결문에서 소송을 기각한 핵심 이유로 예술가들의 저작권 미등록을 제시∙판결문은 소송을 제기한 캘리 맥커넌과 칼라\n",
      "SPRi AI Brief |  2023-12월호\n",
      "4\n",
      "미국 법원, 예술가들이 생성 AI 기업에 제기한 저작권 소송 기각n미국 캘리포니아 북부지방법원은 미드저니, 스태빌리티AI, 디비언트아트를 대상으로 예술가 3인이 제기한 저작권 침해 소송을 기각n법원은 기각 이유로 고소장에 제시된 상당수 작품이 저작권청에 등록되지 않았으며, AI로 생성된 이미지와 특정 작품 간 유사성을 입증하기 어렵다는 점을 제시 \n",
      "KEY Contents\n",
      "핵심 이유로 예술가들의 저작권 미등록을 제시∙판결문은 소송을 제기한 캘리 맥커넌과 칼라 오르티즈가 미국 저작권청에 예술 작품에 대한 저작권을 제출하지 않았다는 점을 지적했으며, 사라 앤더슨은 고소장에 인용된 수백 개의 작품 중 16개 작품에 대해서만 저작권을 보유n판결문은 또한 생성 AI 모델 훈련에 사용된 모든 이미지에 저작권이 있다거나, 생성 AI로 만든 이미지가 저작물을 이용해 훈련되었으므로 저작물의 파생 이미지라는 주장은 개연성이 부족하다고 지적∙AI는 새로운 이미지를 생성할 때 다양한 예술가의 작품을 참조하므로, 생성된 이미지와 저작권을 가진 특정 작품과의 실질적 유사성을 입증할 수 없다면 저작권 침해를 인정받기 어려움n오릭 판사는 원고 측에 고소장을 수정하고 저작권이 침해된 특정 이미지를 중심으로 소송 범위를 줄여 소송을 다시 제기할 것을 요청∙단, 사라 앤더슨이 저작권을 보유한 16개 작품을 무단으로 복제한 스태빌리티AI에 대한 저작권 침해 소송은 인정되어 계속\n",
      "16개 작품을 무단으로 복제한 스태빌리티AI에 대한 저작권 침해 소송은 인정되어 계속 진행됨☞ 출처: Venturebeat, Midjourney, Stability AI and DeviantArt win a victory in copyright case by artists- but the fight continues, 2023.10.30.\n"
     ]
    }
   ],
   "source": [
    "# 04_retrieval_qa.ipynb: 질의응답 구현\n",
    "\n",
    "from langchain.chains import RetrievalQA\n",
    "from langchain.llms import OpenAI\n",
    "from langchain.vectorstores import FAISS\n",
    "from langchain.prompts import PromptTemplate\n",
    "import os\n",
    "from dotenv import load_dotenv\n",
    "\n",
    "# 단계 1: 환경 변수 로드\n",
    "load_dotenv()\n",
    "OPENAI_API_KEY = os.getenv(\"OPENAI_API_KEY\")\n",
    "\n",
    "# 단계 2: 벡터스토어 로드\n",
    "embeddings = OpenAIEmbeddings(openai_api_key=OPENAI_API_KEY)\n",
    "\n",
    "# 'allow_dangerous_deserialization=True' 옵션 추가\n",
    "vectorstore = FAISS.load_local(\"faiss_index\", embeddings, allow_dangerous_deserialization=True)\n",
    "\n",
    "print(\"✅ 벡터스토어가 성공적으로 로드되었습니다!\")\n",
    "\n",
    "\n",
    "# 단계 3: RetrievalQA 체인 설정\n",
    "llm = OpenAI(openai_api_key=OPENAI_API_KEY, temperature=0)\n",
    "\n",
    "# 사용자 지정 프롬프트 추가 (필요 시)\n",
    "custom_prompt = PromptTemplate(\n",
    "    input_variables=[\"context\", \"question\"],\n",
    "    template=\"다음 문맥을 바탕으로 질문에 답하세요.\\n\\n문맥:\\n{context}\\n\\n질문:\\n{question}\\n\\n답변:\"\n",
    ")\n",
    "\n",
    "qa_chain = RetrievalQA.from_chain_type(\n",
    "    llm=llm,\n",
    "    retriever=vectorstore.as_retriever(),\n",
    "    chain_type=\"stuff\",\n",
    "    return_source_documents=True  # 검색된 문서도 반환\n",
    ")\n",
    "\n",
    "# 단계 4: 질의응답 테스트\n",
    "query = \"예술가들의 AI 저작권 침해 소송에 대해 알려줘\"\n",
    "result = qa_chain({\"query\": query})\n",
    "\n",
    "# 결과 출력\n",
    "print(\"🎯 답변:\")\n",
    "print(result[\"result\"])\n",
    "\n",
    "# 선택적으로 검색된 문서 확인\n",
    "print(\"\\n🔍 검색된 문서:\")\n",
    "for doc in result[\"source_documents\"]:\n",
    "    print(doc.page_content)\n"
   ]
  },
  {
   "cell_type": "code",
   "execution_count": 14,
   "id": "4bc6d382-9ba8-499b-a0cc-573c0aa5437f",
   "metadata": {},
   "outputs": [
    {
     "name": "stdout",
     "output_type": "stream",
     "text": [
      "✅ 벡터스토어가 성공적으로 로드되었습니다!\n",
      "🎯 답변:\n",
      " 구글이 앤스로픽에 최대 20억 달러를 투자하기로 합의했으며, 이 중 5억 달러를 우선 투자하고 향후 15억 달러를 추가로 투자할 방침이 있습니다.\n",
      "\n",
      "🔍 검색된 문서:\n",
      "£구글, 앤스로픽에 최대 20억 달러 투자 합의 및 클라우드 서비스 제공n구글이 2023년 10월 27일 앤스로픽에 최대 20억 달러를 투자하기로 합의했으며, 이 중 5억 달러를 우선 투자하고 향후 15억 달러를 추가로 투자할 방침∙구글은 2023년 2월 앤스로픽에 이미 5억 5,000만 달러를 투자한 바 있으며, 아마존도 지난 9월 앤스로픽에 최대 40억 달러의 투자 계획을 공개∙한편, 2023년 11월 8일 블룸버그 보도에 따르면 앤스로픽은 구글의 클라우드 서비스 사용을 위해 4년간 30억 달러 규모의 계약을 체결∙오픈AI 창업자 그룹의 일원이었던 다리오(Dario Amodei)와 다니엘라 아모데이(Daniela Amodei) 남매가 2021년 설립한 앤스로픽은 챗GPT의 대항마 ‘클로드(Claude)’ LLM을 개발n아마존과 구글의 앤스로픽 투자에 앞서, 마이크로소프트는 차세대 AI 모델의 대표 주자인 오픈AI와 협력을 확대∙마이크로소프트는 오픈AI에 앞서 투자한 30억\n",
      "1. 정책/법제  2. 기업/산업 3. 기술/연구  4. 인력/교육구글, 앤스로픽에 20억 달러 투자로 생성 AI 협력 강화 n구글이 앤스로픽에 최대 20억 달러 투자에 합의하고 5억 달러를 우선 투자했으며, 앤스로픽은 구글과 클라우드 서비스 사용 계약도 체결n3대 클라우드 사업자인 구글, 마이크로소프트, 아마존은 차세대 AI 모델의 대표 기업인 앤스로픽 및 오픈AI와 협력을 확대하는 추세\n",
      "KEY Contents\n",
      "투자했으며, 2024년 제미니를 출시할 계획☞ 출처 : The Wall Street Journal, Google Commits $2 Billion in Funding to AI Startup Anthropic, 2023.10.27.Bloomberg, AI Startup Anthropic to Use Google Chips in Expanded Partnership, 2023.11.09.\n",
      "모델의 대표 주자인 오픈AI와 협력을 확대∙마이크로소프트는 오픈AI에 앞서 투자한 30억 달러에 더해 2023년 1월 추가로 100억 달러를 투자하기로 하면서 오픈AI의 지분 49%를 확보했으며, 오픈AI는 마이크로소프트의 애저(Azure) 클라우드 플랫폼을 사용해 AI 모델을 훈련£구글, 클라우드 경쟁력 강화를 위해 생성 AI 투자 확대n구글은 수익률이 높은 클라우드 컴퓨팅 시장에서 아마존과 마이크로소프트를 따라잡고자 생성 AI를 통한 기업 고객의 클라우드 지출 확대를 위해 AI 투자를 지속  ∙구글은 앤스로픽 외에도 AI 동영상 제작 도구를 개발하는 런웨이(Runway)와 오픈소스 소프트웨어 기업 허깅 페이스(Hugging Face)에도 투자∙구글은 챗GPT의 기반 기술과 직접 경쟁할 수 있는 차세대 LLM ‘제미니(Gemini)’를 포함한 자체 AI 시스템 개발에도 수십억 달러를 투자했으며, 2024년 제미니를 출시할 계획☞ 출처 : The Wall Street\n"
     ]
    }
   ],
   "source": [
    "# 04_retrieval_qa.ipynb: 질의응답 구현\n",
    "\n",
    "from langchain.chains import RetrievalQA\n",
    "from langchain.llms import OpenAI\n",
    "from langchain.vectorstores import FAISS\n",
    "from langchain.prompts import PromptTemplate\n",
    "import os\n",
    "from dotenv import load_dotenv\n",
    "\n",
    "# 단계 1: 환경 변수 로드\n",
    "load_dotenv()\n",
    "OPENAI_API_KEY = os.getenv(\"OPENAI_API_KEY\")\n",
    "\n",
    "# 단계 2: 벡터스토어 로드\n",
    "embeddings = OpenAIEmbeddings(openai_api_key=OPENAI_API_KEY)\n",
    "\n",
    "# 'allow_dangerous_deserialization=True' 옵션 추가\n",
    "vectorstore = FAISS.load_local(\"faiss_index\", embeddings, allow_dangerous_deserialization=True)\n",
    "\n",
    "print(\"✅ 벡터스토어가 성공적으로 로드되었습니다!\")\n",
    "\n",
    "\n",
    "# 단계 3: RetrievalQA 체인 설정\n",
    "llm = OpenAI(openai_api_key=OPENAI_API_KEY, temperature=0)\n",
    "\n",
    "# 사용자 지정 프롬프트 추가 (필요 시)\n",
    "custom_prompt = PromptTemplate(\n",
    "    input_variables=[\"context\", \"question\"],\n",
    "    template=\"다음 문맥을 바탕으로 질문에 답하세요.\\n\\n문맥:\\n{context}\\n\\n질문:\\n{question}\\n\\n답변:\"\n",
    ")\n",
    "\n",
    "qa_chain = RetrievalQA.from_chain_type(\n",
    "    llm=llm,\n",
    "    retriever=vectorstore.as_retriever(),\n",
    "    chain_type=\"stuff\",\n",
    "    return_source_documents=True  # 검색된 문서도 반환\n",
    ")\n",
    "\n",
    "# 단계 4: 질의응답 테스트\n",
    "query = \"구글이 앤스로픽에 얼마 투자했지?\"\n",
    "result = qa_chain({\"query\": query})\n",
    "\n",
    "# 결과 출력\n",
    "print(\"🎯 답변:\")\n",
    "print(result[\"result\"])\n",
    "\n",
    "# 선택적으로 검색된 문서 확인\n",
    "print(\"\\n🔍 검색된 문서:\")\n",
    "for doc in result[\"source_documents\"]:\n",
    "    print(doc.page_content)\n"
   ]
  },
  {
   "cell_type": "code",
   "execution_count": null,
   "id": "fa16bee4-02a9-4bde-89c0-e191eedca85d",
   "metadata": {},
   "outputs": [],
   "source": []
  }
 ],
 "metadata": {
  "kernelspec": {
   "display_name": "Python (rag_project)",
   "language": "python",
   "name": "rag_project"
  },
  "language_info": {
   "codemirror_mode": {
    "name": "ipython",
    "version": 3
   },
   "file_extension": ".py",
   "mimetype": "text/x-python",
   "name": "python",
   "nbconvert_exporter": "python",
   "pygments_lexer": "ipython3",
   "version": "3.11.11"
  }
 },
 "nbformat": 4,
 "nbformat_minor": 5
}
