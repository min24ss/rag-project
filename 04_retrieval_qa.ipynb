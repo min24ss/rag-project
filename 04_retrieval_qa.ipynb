{
 "cells": [
  {
   "cell_type": "code",
   "execution_count": 12,
   "id": "436e0e56-5d14-4576-83bd-cc3f9f073b09",
   "metadata": {},
   "outputs": [
    {
     "name": "stdout",
     "output_type": "stream",
     "text": [
      "✅ 벡터스토어가 성공적으로 로드되었습니다!\n",
      "🎯 답변:\n",
      " 대응표본 t검정을 사용했다.\n",
      "\n",
      "🔍 검색된 문서:\n",
      "- 7 -\n",
      "검증 단계평균차이유의확률분석방법보고서 제시단계3 O2-O4 표 작성\n",
      "라) 결과 제시 및 해석 방법(논문 및 보고서 기술양식)<표 1> 실험집단의 자존감 사전-사후 평균 차이집단N M(평균) SD(표준편차) t p자존감사전152.85.612-2.896*.012사후153.23.597*p<.05 **<.01, ***<.001⇒ 자존감에 대한 실험집단 학생들의 프로그램 사전, 사후 응답 차이를 확인하기 위해 대응표본 t검정을 실시하였다. 분석결과, 사전자존감은 2.85점이었으나 사후자존감은 3.23점으로 약 0.48점 통계적 유의수준에서 향상된 것으로 확인되었다(t=-2.896, p=.012). 따라서 자존감에 대한 학생들의 응답점수가 사전보다 사후에 유의하게 증가하였다고 할 수 있다. 즉, 프로그램은 학생들의 자존감을 증진시키는 데에 효과적으로 기여하였음을 알 수 있다. 3) SPSS 산출방법 : (    )표본 t 검정 (연습문제)\n",
      "두 집단 차이연구를 위한 통계분석 : t검증편  ■■■\n",
      "- 10 -\n",
      "□ 연구문제 : 체력증진 프로그램을 적용하기 전후 학생들의 체력에 차이가 있는가?독립변인(수) 종속변인(수) 독립변인척도(수준/두 표본/두 집단) 종속변인척도                 (            )□ 영가설(기각가설) : □ 대립가설(채택가설) :□ 통계분석방법 : t검증(대응표본 t검증) ▶ 대응표본 t검증 목적: 상호 독립적으로 구성되지 않은 두 표본(사전-사후)의 평균차이 검증□ SPSS 활용방법 ▶ 산출순서(성태제 data 활용, p132 참조)분석⇒평균비교⇒대응표본 t검증 Click⇒대응변수란에 비교하고자 하는 대응변수(사전체력-사후체력) 투입⇒ 확인 Click▶ output 결과 및 해석\n",
      "라) 결과 제시 및 해석 방법(논문 및 보고서 기술양식)<표 1> 집단(통제집단과 실험집단)의 자존감과 내적통제성 사전평균 차이집단N M(평균) SD(표준편차) t p사전자존감실험집단152.85.6121.507.143통제집단142.49.676사전내적통제성실험집단1510.731.8302.286*.030통제집단149.141.916*p<.05 **<.01, ***<.001⇒ 실험집단과 통제집단의 사전 자존감, 내적통제성 평균 차이를 확인하기 위해 독립표본 t검정을 실시하였다. 분석결과, 실험집단의 사전자존감은 2.85점, 통제집단의 사전자존감은 2.49점으로 실험집단이 통제집단에 비해 약 0.36점 높은 것으로 나타났다. 그러나 이러한 차이는 통계적으로 유의하지 않은 것으로 나타났다(t=1.507, p=.143). 즉, 프로그램 처치 전 통제집단과 실험집단의 사전자존감은 통계적 유의수준에서 차이가 없는 것으로 판단되어 두 집단이 동일한 수준의 집단인 것으로 확인되었다.   그러나,\n",
      "없는 것으로 판단되어 두 집단이 동일한 수준의 집단인 것으로 확인되었다.   그러나, 통제집단의 사전내적통제성은 10.73점, 실험집단의 사전내적통제성은 9.14점으로 실험집단이 통제집단에 비해 약 1.59점 높은 것으로 나타났다. 이러한 차이는 통계적으로 유의한 것이 확인되었다(t=2.286, p=.030). 이러한 결과는 프로그램 처치 전 통제집단과 실험집단의 사전내적통제성은 통계적 유의수준에서 차이가 있는 것으로 판단되어 두 집단이 동일한 수준의 집단이 아닌 것으로 확인되었다. 따라서 사후 점수에서의 집단 차이가 처치에 의한 효과라고 단정짓기 어렵기 때문에 사전내적통제성의 평균을 동일하게 교정하한 상태로 처치 효과를 검증하는 공분산분석(ANCOVA)을 활용하였다.\n"
     ]
    }
   ],
   "source": [
    "# 04_retrieval_qa.ipynb: 질의응답 구현\n",
    "from langchain.embeddings.openai import OpenAIEmbeddings\n",
    "\n",
    "from langchain.chains import RetrievalQA\n",
    "from langchain.llms import OpenAI\n",
    "from langchain.vectorstores import FAISS\n",
    "from langchain.prompts import PromptTemplate\n",
    "import os\n",
    "from dotenv import load_dotenv\n",
    "\n",
    "# 단계 1: 환경 변수 로드\n",
    "load_dotenv()\n",
    "OPENAI_API_KEY = os.getenv(\"OPENAI_API_KEY\")\n",
    "\n",
    "# 단계 2: 벡터스토어 로드\n",
    "embeddings = OpenAIEmbeddings(openai_api_key=OPENAI_API_KEY)\n",
    "\n",
    "# 'allow_dangerous_deserialization=True' 옵션 추가\n",
    "vectorstore = FAISS.load_local(\"faiss_index\", embeddings, allow_dangerous_deserialization=True)\n",
    "\n",
    "print(\"✅ 벡터스토어가 성공적으로 로드되었습니다!\")\n",
    "\n",
    "\n",
    "# 단계 3: RetrievalQA 체인 설정\n",
    "llm = OpenAI(openai_api_key=OPENAI_API_KEY, temperature=0)\n",
    "\n",
    "# 사용자 지정 프롬프트 추가 (필요 시)\n",
    "custom_prompt = PromptTemplate(\n",
    "    input_variables=[\"context\", \"question\"],\n",
    "    template=\"다음 문맥을 바탕으로 질문에 답하세요.\\n\\n문맥:\\n{context}\\n\\n질문:\\n{question}\\n\\n답변:\"\n",
    ")\n",
    "\n",
    "qa_chain = RetrievalQA.from_chain_type(\n",
    "    llm=llm,\n",
    "    retriever=vectorstore.as_retriever(),\n",
    "    chain_type=\"stuff\",\n",
    "    return_source_documents=True  # 검색된 문서도 반환\n",
    ")\n",
    "\n",
    "# 단계 4: 질의응답 테스트\n",
    "query = \"자존감에 대한 실험집단 학생들의 프로그램 사전, 사후 응답 차이를 확인하기 위해 뭘 사용했지?\"\n",
    "result = qa_chain({\"query\": query})\n",
    "\n",
    "# 결과 출력\n",
    "print(\"🎯 답변:\")\n",
    "print(result[\"result\"])\n",
    "\n",
    "# 선택적으로 검색된 문서 확인\n",
    "print(\"\\n🔍 검색된 문서:\")\n",
    "for doc in result[\"source_documents\"]:\n",
    "    print(doc.page_content)\n"
   ]
  },
  {
   "cell_type": "code",
   "execution_count": null,
   "id": "fa16bee4-02a9-4bde-89c0-e191eedca85d",
   "metadata": {},
   "outputs": [],
   "source": []
  }
 ],
 "metadata": {
  "kernelspec": {
   "display_name": "Python (rag_project)",
   "language": "python",
   "name": "rag_project"
  },
  "language_info": {
   "codemirror_mode": {
    "name": "ipython",
    "version": 3
   },
   "file_extension": ".py",
   "mimetype": "text/x-python",
   "name": "python",
   "nbconvert_exporter": "python",
   "pygments_lexer": "ipython3",
   "version": "3.11.11"
  }
 },
 "nbformat": 4,
 "nbformat_minor": 5
}
